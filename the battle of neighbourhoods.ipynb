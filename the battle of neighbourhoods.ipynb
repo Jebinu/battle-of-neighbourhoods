{
    "cells": [
        {
            "metadata": {
                "collapsed": true
            },
            "cell_type": "markdown",
            "source": "# The Battle of Neighbourhoods"
        },
        {
            "metadata": {},
            "cell_type": "markdown",
            "source": "## Introduction"
        },
        {
            "metadata": {},
            "cell_type": "markdown",
            "source": "The City of New York, is the most populous city in the United States. It is diverse and is the financial capital of USA. It is multicultural. It provides lot of business<br> oppourtunities and business friendly environment. It has attracted many different players into the market. It is a global hub of business and commerce. The city is a major<br> cen.ter for banking and finance, retailing, world trade, transportation, tourism, real estate, new media, traditional media, advertising, legal services, accountancy,<br> insurance, theater, fashion, and the arts in the United States. This also means that the market is highly competitive. As it is highly developed city so cost of doing business<br> is also one of the highest. Thus, any new business venture or expansion needs to be analysed carefully. The insights derived from analysis will give good <br>understanding of the business environment which help in strategically targeting the market. This will help in reduction of risk. And the Return on Investment will be<br> reasonable."
        },
        {
            "metadata": {},
            "cell_type": "markdown",
            "source": "## Business problem"
        },
        {
            "metadata": {},
            "cell_type": "markdown",
            "source": "The City of New York is famous for its excelllent cuisine. It's food culture includes an array of international cuisines influenced by the city's immigrant history.<br>\n\nSushi restaurants have become so popular in the United States now it seems that there is one on every corner, not only in major cities but also in smaller cities.\n\n<br>Starting a sushi restaurant can be a great business opportunity, but you need to distinguish yourself from others to enjoy long-term success."
        },
        {
            "metadata": {},
            "cell_type": "markdown",
            "source": "### Find a suitable location."
        },
        {
            "metadata": {},
            "cell_type": "markdown",
            "source": "If you plan a real restaurant that can demand higher prices for fresh fish, delivered daily from Japan, focus on neighborhoods and outlets that already attract a <br>sophisticated Japanese client. If you plan a cheap buffet restaurant, points to the masses looking for affordable high-traffic locations with large shopping centers and<br> other local points of interest. So it is evident that to survive in such competitive market it is very important to startegically plan. Various factors need to be<br> studied inorder to decide on the Location"
        },
        {
            "metadata": {},
            "cell_type": "markdown",
            "source": "### Target Audience:"
        },
        {
            "metadata": {},
            "cell_type": "markdown",
            "source": "My Client wants to open his business in Manhattan area, so I only focus on that borough during my analysis. The objective is to locate and recommend to the management which<br> neighborhood of Newyork city will be best choice to start a restaurant. The Management also expects to understand the rationale of the recommendations made.<br>\n\nThis would interest anyone who wants to start a new restaurant in Newyork city."
        }
    ],
    "metadata": {
        "kernelspec": {
            "name": "python3",
            "display_name": "Python 3.7",
            "language": "python"
        },
        "language_info": {
            "name": "python",
            "version": "3.7.10",
            "mimetype": "text/x-python",
            "codemirror_mode": {
                "name": "ipython",
                "version": 3
            },
            "pygments_lexer": "ipython3",
            "nbconvert_exporter": "python",
            "file_extension": ".py"
        }
    },
    "nbformat": 4,
    "nbformat_minor": 1
}